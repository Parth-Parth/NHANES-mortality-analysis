{
 "cells": [
  {
   "cell_type": "code",
   "execution_count": 3,
   "id": "0231063a-4137-4e88-8eb9-5a9e6a14086e",
   "metadata": {},
   "outputs": [],
   "source": [
    "import pandas as pd\n",
    "import os"
   ]
  },
  {
   "cell_type": "code",
   "execution_count": 2,
   "id": "d36488eb-17ea-4acb-9663-c9951a4cb369",
   "metadata": {},
   "outputs": [],
   "source": [
    "start = 1999\n",
    "end = 2019"
   ]
  },
  {
   "cell_type": "code",
   "execution_count": 16,
   "id": "d4d98d3c-ce3d-46be-a0df-ffebb77f5167",
   "metadata": {},
   "outputs": [
    {
     "name": "stdout",
     "output_type": "stream",
     "text": [
      "4447\n",
      "6844\n",
      "6449\n",
      "6286\n",
      "6322\n",
      "6803\n",
      "5944\n",
      "6517\n",
      "6211\n",
      "5878\n"
     ]
    }
   ],
   "source": [
    "df_list = []\n",
    "\n",
    "cols = ['LBXGH', 'DIQ050', 'LBDBANO', 'LBDEONO', 'LBDMONO', 'LBXSGL',\n",
    "        'LBXSOSSI', 'LBXSTB', 'LBXSAL', 'LBXTC',\n",
    "        'LBXSNASI', 'LBXSC3SI', 'LBXSATSI', 'LBXRDW',\n",
    "        'LBXSTR', 'LBXSCH', 'LBDNENO', 'LBXSCR', 'LBDLYMNO',\n",
    "        'LBXRBCSI', 'LBXSKSI', 'LBXLYPCT', 'LBXSUA']\n",
    "\n",
    "\n",
    "for year in range(start, end, 2):\n",
    "    dir_path = f\"data/{year}-{year+1}/lab\"\n",
    "    \n",
    "    gh = pd.read_sas(os.path.join(dir_path, \"LAB10.XPT\"))\n",
    "    sbc = pd.read_sas(os.path.join(dir_path, \"LAB.XPT\"))\n",
    "    \n",
    "    sbc.rename(columns={'LBDSTB': 'LBXSTB', 'LBDSCR': 'LBXSCR'}, inplace=True)\n",
    "    cbc = pd.read_sas(os.path.join(dir_path, \"LAB25.XPT\"))\n",
    "    chol = pd.read_sas(os.path.join(dir_path, \"TCHOL.XPT\"))\n",
    "    \n",
    "    dir_path = f\"data/{year}-{year+1}/questionnaire\"\n",
    "    fp = list(filter(lambda fn: fn.startswith('DIQ'), os.listdir(dir_path)))[0]\n",
    "    dbts_que = pd.read_sas(os.path.join(dir_path, fp))\n",
    "    \n",
    "    temp = pd.merge(gh, sbc, on='SEQN')\n",
    "    temp = pd.merge(temp, cbc, on='SEQN')\n",
    "    temp = pd.merge(temp, chol, on='SEQN')\n",
    "    temp = pd.merge(temp, dbts_que, on='SEQN')\n",
    "    \n",
    "    temp = temp[cols]\n",
    "    temp.dropna(inplace=True)\n",
    "    print(temp.shape[0])\n",
    "    \n",
    "    df_list.append(temp)\n",
    "    \n",
    "df = pd.concat(df_list)\n",
    "df.to_csv(\"dbts.csv\", index = False)"
   ]
  },
  {
   "cell_type": "code",
   "execution_count": null,
   "id": "71e91539-f0bf-415a-b617-42415258cc07",
   "metadata": {},
   "outputs": [],
   "source": []
  }
 ],
 "metadata": {
  "kernelspec": {
   "display_name": "Python 3 (ipykernel)",
   "language": "python",
   "name": "python3"
  },
  "language_info": {
   "codemirror_mode": {
    "name": "ipython",
    "version": 3
   },
   "file_extension": ".py",
   "mimetype": "text/x-python",
   "name": "python",
   "nbconvert_exporter": "python",
   "pygments_lexer": "ipython3",
   "version": "3.7.11"
  }
 },
 "nbformat": 4,
 "nbformat_minor": 5
}
